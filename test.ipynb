{
 "cells": [
  {
   "cell_type": "code",
   "execution_count": 1,
   "metadata": {},
   "outputs": [],
   "source": [
    "from typing import overload\n",
    "import os\n",
    "\n",
    "import torch\n",
    "from torch import Tensor\n",
    "from torch.utils.data import Dataset, DataLoader, random_split\n",
    "import config\n",
    "from torchvision.datasets import MNIST, CIFAR10\n",
    "import matplotlib.pyplot as plt\n",
    "import numpy as np\n",
    "\n",
    "import matplotlib.pyplot as plt\n",
    "\n",
    "\n",
    "def get_PATH(name):\n",
    "\t'''\n",
    "\tget PATH to store data\n",
    "\t'''\n",
    "\tif config.NUM_LABELLED == -1:\n",
    "\t\treturn f'{config.USED_DATA}/{name}/_full'\n",
    "\telse:\n",
    "\t\treturn f'{config.USED_DATA}/{name}/_{config.NUM_LABELLED}'\n",
    "\n",
    "def set_random_seed(seed: int) -> None:\n",
    "    \"\"\"\n",
    "    Sets the seeds at a certain value.\n",
    "    :param seed: the value to be set\n",
    "    \"\"\"\n",
    "    print(\"Setting seeds ...... \\n\")\n",
    "    torch.manual_seed(seed)\n",
    "    torch.cuda.manual_seed(seed)\n",
    "    torch.cuda.manual_seed_all(seed)\n",
    "    torch.backends.cudnn.benchmark = False\n",
    "    torch.backends.cudnn.deterministic = True\n",
    "\n",
    "\n",
    "class Doodle(Dataset):\n",
    "\tdef __init__(self, root: str, train: bool = True, transform = None, target_transform = None, download = False):\n",
    "\t\tself.root = root + \"/Doodles/\"\n",
    "\n",
    "\t\tself.num_classes = len(os.listdir(self.root))\n",
    "\n",
    "\t\tself.train = train\n",
    "\t\tif train:\n",
    "\t\t\tself.num_data = 100000 * self.num_classes\n",
    "\t\telse:\n",
    "\t\t\tself.num_data = 10000 * self.num_classes\n",
    "\n",
    "\t\tself.data = np.empty([self.num_data, 28, 28], np.int64)\n",
    "\t\tself.target = np.empty([self.num_data], dtype=np.int8)\n",
    "\n",
    "\t\tself.classes = []\n",
    "\n",
    "\t\tself.download_data()\n",
    "\n",
    "\t\tself.transform = transform\n",
    "\t\tself.target_transform = target_transform\n",
    "\t\n",
    "\tdef download_data(self):\n",
    "\t\tfor i, file in enumerate(os.listdir(self.root)):\n",
    "\t\t\tdata: np.ndarray = np.load(self.root + file)\n",
    "\t\t\tif self.train:\n",
    "\t\t\t\tdata = data[: 100000]\n",
    "\t\t\t\tn = 100000\n",
    "\t\t\t\tdata = data.reshape(100000, 28, 28)\n",
    "\t\t\telse:\n",
    "\t\t\t\tdata = data[100000: 110000]\n",
    "\t\t\t\tn = 10000\n",
    "\t\t\t\tdata = data.reshape(10000, 28, 28)\n",
    "\t\t\t\n",
    "\t\t\tself.data[i*n: (i+1)*n] = data\n",
    "\t\t\t\n",
    "\t\t\ttarget = file[18: -4]\n",
    "\n",
    "\t\t\tself.target[i*n: (i+1)*n] = np.full([n], i)\n",
    "\n",
    "\t\t\tself.classes.append(f'{i} - {target}')\n",
    "\n",
    "\n"
   ]
  },
  {
   "cell_type": "code",
   "execution_count": 46,
   "metadata": {},
   "outputs": [
    {
     "name": "stdout",
     "output_type": "stream",
     "text": [
      "['0 - helicopter', '1 - car', '2 - book', '3 - windmill', '4 - cat', '5 - umbrella', '6 - octopus', '7 - bird', '8 - hat', '9 - birthday cake']\n"
     ]
    }
   ],
   "source": [
    "dataset = Doodle(\"./data\", train = False)\n",
    "print(dataset.classes)"
   ]
  }
 ],
 "metadata": {
  "kernelspec": {
   "display_name": "GAN",
   "language": "python",
   "name": "python3"
  },
  "language_info": {
   "codemirror_mode": {
    "name": "ipython",
    "version": 3
   },
   "file_extension": ".py",
   "mimetype": "text/x-python",
   "name": "python",
   "nbconvert_exporter": "python",
   "pygments_lexer": "ipython3",
   "version": "3.9.0"
  }
 },
 "nbformat": 4,
 "nbformat_minor": 2
}
