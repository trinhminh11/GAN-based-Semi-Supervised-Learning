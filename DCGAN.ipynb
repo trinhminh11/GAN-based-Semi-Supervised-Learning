{
 "cells": [
  {
   "cell_type": "code",
   "execution_count": 1,
   "metadata": {},
   "outputs": [],
   "source": [
    "import torch\n",
    "import torch.nn as nn\n",
    "from torch import Tensor\n",
    "import torch.optim as optim\n",
    "import torch.utils.data\n",
    "import torchvision.transforms as transforms\n",
    "import torchvision.utils as vutils\n",
    "\n",
    "import matplotlib.pyplot as plt\n",
    "\n",
    "from tqdm.notebook import tqdm\n",
    "\n",
    "from utils import set_random_seed, load_data, CreateDataLoader\n",
    "\n",
    "from Network_model import TransposeBN\n",
    "\n",
    "import config"
   ]
  },
  {
   "cell_type": "code",
   "execution_count": 2,
   "metadata": {},
   "outputs": [
    {
     "name": "stdout",
     "output_type": "stream",
     "text": [
      "Setting seeds ...... \n",
      "\n"
     ]
    }
   ],
   "source": [
    "set_random_seed(config.RANDOM_SEED)"
   ]
  },
  {
   "cell_type": "code",
   "execution_count": 3,
   "metadata": {},
   "outputs": [
    {
     "data": {
      "text/plain": [
       "'DCGAN/DOODLE'"
      ]
     },
     "execution_count": 3,
     "metadata": {},
     "output_type": "execute_result"
    }
   ],
   "source": [
    "PATH = f'DCGAN/{config.USED_DATA}'\n",
    "PATH"
   ]
  },
  {
   "cell_type": "code",
   "execution_count": 4,
   "metadata": {},
   "outputs": [],
   "source": [
    "if config.USED_DATA == \"CIFAR10\":\n",
    "\ttransform = transforms.Compose([\n",
    "\t\t\t\t\t\t\t   transforms.Resize(64),\n",
    "\t\t\t\t\t\t\t   transforms.Normalize((0.5, 0.5, 0.5), (0.5, 0.5, 0.5)),\n",
    "\t\t\t\t\t\t   ])\n",
    "\tn_channels = 3\n",
    "elif config.USED_DATA == \"MNIST\" or config.USED_DATA == \"DOODLE\":\n",
    "\ttransform = transforms.Compose([\n",
    "\t\t\t\t\t\t\t   transforms.Resize(64),\n",
    "\t\t\t\t\t\t\t   transforms.Normalize([0.5], [0.5]),\n",
    "\t\t\t\t\t\t   ])\n",
    "\tn_channels = 1"
   ]
  },
  {
   "cell_type": "code",
   "execution_count": 5,
   "metadata": {},
   "outputs": [
    {
     "data": {
      "text/plain": [
       "<utils.CustomDataSet at 0x7f23d8279df0>"
      ]
     },
     "execution_count": 5,
     "metadata": {},
     "output_type": "execute_result"
    }
   ],
   "source": [
    "dataset, *_ = load_data(transform)\n",
    "dataset"
   ]
  },
  {
   "cell_type": "code",
   "execution_count": 6,
   "metadata": {},
   "outputs": [],
   "source": [
    "latent_size = 100"
   ]
  },
  {
   "cell_type": "code",
   "execution_count": 7,
   "metadata": {},
   "outputs": [],
   "source": [
    "dataloader = CreateDataLoader(dataset, batch_size = config.GAN_BATCH_SIZE, device = config.DEVICE)"
   ]
  },
  {
   "cell_type": "code",
   "execution_count": 8,
   "metadata": {},
   "outputs": [],
   "source": [
    "def weights_init(m):\n",
    "\tclassname = m.__class__.__name__\n",
    "\tif classname.find('Conv') != -1:\n",
    "\t\tm.weight.data.normal_(0.0, 0.02)\n",
    "\telif classname.find('BatchNorm') != -1:\n",
    "\t\tm.weight.data.normal_(1.0, 0.02)\n",
    "\t\tm.bias.data.fill_(0)\n"
   ]
  },
  {
   "cell_type": "code",
   "execution_count": 9,
   "metadata": {},
   "outputs": [],
   "source": [
    "class Generator(nn.Module):\n",
    "\tdef __init__(self, latent_size, n_channels, filters = [512, 256, 128, 64]):\n",
    "\t\tsuper().__init__()\n",
    "\n",
    "\t\tself.initial = TransposeBN(latent_size, filters[0], 4, 1, 0)\n",
    "\n",
    "\n",
    "\t\tlayers = []\n",
    "\n",
    "\t\tfor i in range(1, len(filters)):\n",
    "\t\t\tlayers.append(TransposeBN(filters[i-1], filters[i]))\n",
    "\t\t\n",
    "\t\tself.Transposed = nn.Sequential(*layers)\n",
    "\n",
    "\t\tself.out = nn.ConvTranspose2d(filters[-1], n_channels, 4, 2, 1, bias = False)\n",
    "\n",
    "\t\tself.tanh = nn.Tanh()\n",
    "\n",
    "\tdef forward(self, X: Tensor):\n",
    "\t\tout = self.initial(X)\n",
    "\t\tout = self.Transposed(out)\n",
    "\t\tout = self.out(out)\n",
    "\t\tout = self.tanh(out)\n",
    "\n",
    "\t\treturn out"
   ]
  },
  {
   "cell_type": "code",
   "execution_count": 10,
   "metadata": {},
   "outputs": [
    {
     "data": {
      "text/plain": [
       "Generator(\n",
       "  (initial): TransposeBN(\n",
       "    (deConv): ConvTranspose2d(100, 512, kernel_size=(4, 4), stride=(1, 1), bias=False)\n",
       "    (Bn): BatchNorm2d(512, eps=1e-05, momentum=0.1, affine=True, track_running_stats=True)\n",
       "    (act): ReLU(inplace=True)\n",
       "  )\n",
       "  (Transposed): Sequential(\n",
       "    (0): TransposeBN(\n",
       "      (deConv): ConvTranspose2d(512, 256, kernel_size=(4, 4), stride=(2, 2), padding=(1, 1), bias=False)\n",
       "      (Bn): BatchNorm2d(256, eps=1e-05, momentum=0.1, affine=True, track_running_stats=True)\n",
       "      (act): ReLU(inplace=True)\n",
       "    )\n",
       "    (1): TransposeBN(\n",
       "      (deConv): ConvTranspose2d(256, 128, kernel_size=(4, 4), stride=(2, 2), padding=(1, 1), bias=False)\n",
       "      (Bn): BatchNorm2d(128, eps=1e-05, momentum=0.1, affine=True, track_running_stats=True)\n",
       "      (act): ReLU(inplace=True)\n",
       "    )\n",
       "    (2): TransposeBN(\n",
       "      (deConv): ConvTranspose2d(128, 64, kernel_size=(4, 4), stride=(2, 2), padding=(1, 1), bias=False)\n",
       "      (Bn): BatchNorm2d(64, eps=1e-05, momentum=0.1, affine=True, track_running_stats=True)\n",
       "      (act): ReLU(inplace=True)\n",
       "    )\n",
       "  )\n",
       "  (out): ConvTranspose2d(64, 1, kernel_size=(4, 4), stride=(2, 2), padding=(1, 1), bias=False)\n",
       "  (tanh): Tanh()\n",
       ")"
      ]
     },
     "execution_count": 10,
     "metadata": {},
     "output_type": "execute_result"
    }
   ],
   "source": [
    "netG = Generator(latent_size, n_channels).to(config.DEVICE)\n",
    "netG.apply(weights_init)\n",
    "netG"
   ]
  },
  {
   "cell_type": "code",
   "execution_count": 11,
   "metadata": {},
   "outputs": [],
   "source": [
    "class Discriminator(nn.Module):\n",
    "\tdef __init__(self, n_channels, filters = [64, 128, 256, 512]):\n",
    "\t\tsuper(Discriminator, self).__init__()\n",
    "\t\tself.main = nn.Sequential(\n",
    "\t\t\t# input is (nc) x 64 x 64\n",
    "\t\t\tnn.Conv2d(n_channels, filters[0], 4, 2, 1, bias=False),\n",
    "\t\t\tnn.LeakyReLU(0.2, inplace=True),\n",
    "\t\t\t# state size. (ndf) x 32 x 32\n",
    "\t\t\tnn.Conv2d(filters[0], filters[1], 4, 2, 1, bias=False),\n",
    "\t\t\tnn.BatchNorm2d(filters[1]),\n",
    "\t\t\tnn.LeakyReLU(0.2, inplace=True),\n",
    "\t\t\t# state size. (ndf*2) x 16 x 16\n",
    "\t\t\tnn.Conv2d(filters[1], filters[2], 4, 2, 1, bias=False),\n",
    "\t\t\tnn.BatchNorm2d(filters[2]),\n",
    "\t\t\tnn.LeakyReLU(0.2, inplace=True),\n",
    "\t\t\t# state size. (ndf*4) x 8 x 8\n",
    "\t\t\tnn.Conv2d(filters[2], filters[3], 4, 2, 1, bias=False),\n",
    "\t\t\tnn.BatchNorm2d(filters[3]),\n",
    "\t\t\tnn.LeakyReLU(0.2, inplace=True),\n",
    "\t\t\t# state size. (ndf*8) x 4 x 4\n",
    "\t\t\tnn.Conv2d(filters[3], 1, 4, 1, 0, bias=False)\n",
    "\t\t)\n",
    "\n",
    "\tdef forward(self, X: Tensor):\n",
    "\t\tout = self.main(X)\n",
    "\n",
    "\t\treturn out.view(-1, 1).squeeze(1)"
   ]
  },
  {
   "cell_type": "code",
   "execution_count": 12,
   "metadata": {},
   "outputs": [
    {
     "data": {
      "text/plain": [
       "Discriminator(\n",
       "  (main): Sequential(\n",
       "    (0): Conv2d(1, 64, kernel_size=(4, 4), stride=(2, 2), padding=(1, 1), bias=False)\n",
       "    (1): LeakyReLU(negative_slope=0.2, inplace=True)\n",
       "    (2): Conv2d(64, 128, kernel_size=(4, 4), stride=(2, 2), padding=(1, 1), bias=False)\n",
       "    (3): BatchNorm2d(128, eps=1e-05, momentum=0.1, affine=True, track_running_stats=True)\n",
       "    (4): LeakyReLU(negative_slope=0.2, inplace=True)\n",
       "    (5): Conv2d(128, 256, kernel_size=(4, 4), stride=(2, 2), padding=(1, 1), bias=False)\n",
       "    (6): BatchNorm2d(256, eps=1e-05, momentum=0.1, affine=True, track_running_stats=True)\n",
       "    (7): LeakyReLU(negative_slope=0.2, inplace=True)\n",
       "    (8): Conv2d(256, 512, kernel_size=(4, 4), stride=(2, 2), padding=(1, 1), bias=False)\n",
       "    (9): BatchNorm2d(512, eps=1e-05, momentum=0.1, affine=True, track_running_stats=True)\n",
       "    (10): LeakyReLU(negative_slope=0.2, inplace=True)\n",
       "    (11): Conv2d(512, 1, kernel_size=(4, 4), stride=(1, 1), bias=False)\n",
       "  )\n",
       ")"
      ]
     },
     "execution_count": 12,
     "metadata": {},
     "output_type": "execute_result"
    }
   ],
   "source": [
    "netD = Discriminator(n_channels).to(config.DEVICE)\n",
    "netD.apply(weights_init)\n",
    "netD"
   ]
  },
  {
   "cell_type": "code",
   "execution_count": 13,
   "metadata": {},
   "outputs": [],
   "source": [
    "criterion = nn.BCEWithLogitsLoss()\n",
    "optimizerD = optim.Adam(netD.parameters(), lr = 0.0001, betas = [0.5, 0.999])\n",
    "optimizerG = optim.Adam(netG.parameters(), lr = 0.0002, betas = [0.5, 0.999])"
   ]
  },
  {
   "cell_type": "code",
   "execution_count": 14,
   "metadata": {},
   "outputs": [],
   "source": [
    "fixed_noise = torch.randn(64, latent_size, 1, 1, device=config.DEVICE)\n",
    "real_label = 1\n",
    "fake_label = 0"
   ]
  },
  {
   "cell_type": "code",
   "execution_count": 15,
   "metadata": {},
   "outputs": [
    {
     "data": {
      "application/vnd.jupyter.widget-view+json": {
       "model_id": "469b28ef7c34479bbdce597bc3b8cc1b",
       "version_major": 2,
       "version_minor": 0
      },
      "text/plain": [
       "  0%|          | 0/782 [00:00<?, ?it/s]"
      ]
     },
     "metadata": {},
     "output_type": "display_data"
    },
    {
     "name": "stdout",
     "output_type": "stream",
     "text": [
      "[0/24] Loss_D: 0.2165 Loss_G: 3.7037 D(x): 2.6847 D(G(z)): -2.5340 / -3.6712994607\r"
     ]
    },
    {
     "data": {
      "application/vnd.jupyter.widget-view+json": {
       "model_id": "649d11d15da749aa9af9fe5aed6f34d9",
       "version_major": 2,
       "version_minor": 0
      },
      "text/plain": [
       "  0%|          | 0/782 [00:00<?, ?it/s]"
      ]
     },
     "metadata": {},
     "output_type": "display_data"
    },
    {
     "name": "stdout",
     "output_type": "stream",
     "text": [
      "[1/24] Loss_D: 0.0770 Loss_G: 5.1433 D(x): 4.8744 D(G(z)): -3.3410 / -5.13536561\r"
     ]
    },
    {
     "data": {
      "application/vnd.jupyter.widget-view+json": {
       "model_id": "4398ac9f40dc46b4820c6a0b083153ad",
       "version_major": 2,
       "version_minor": 0
      },
      "text/plain": [
       "  0%|          | 0/782 [00:00<?, ?it/s]"
      ]
     },
     "metadata": {},
     "output_type": "display_data"
    },
    {
     "name": "stdout",
     "output_type": "stream",
     "text": [
      "[2/24] Loss_D: 0.2019 Loss_G: 3.4754 D(x): 3.3674 D(G(z)): -2.5097 / -3.43102566\r"
     ]
    },
    {
     "data": {
      "application/vnd.jupyter.widget-view+json": {
       "model_id": "7dbe681a0dd54b3785a8addce41fcd37",
       "version_major": 2,
       "version_minor": 0
      },
      "text/plain": [
       "  0%|          | 0/782 [00:00<?, ?it/s]"
      ]
     },
     "metadata": {},
     "output_type": "display_data"
    },
    {
     "name": "stdout",
     "output_type": "stream",
     "text": [
      "[3/24] Loss_D: 0.0699 Loss_G: 3.5432 D(x): 3.6589 D(G(z)): -3.8852 / -3.50738836\r"
     ]
    },
    {
     "data": {
      "application/vnd.jupyter.widget-view+json": {
       "model_id": "d10a12ae378d416ab0e9f0ef53243a19",
       "version_major": 2,
       "version_minor": 0
      },
      "text/plain": [
       "  0%|          | 0/782 [00:00<?, ?it/s]"
      ]
     },
     "metadata": {},
     "output_type": "display_data"
    },
    {
     "name": "stdout",
     "output_type": "stream",
     "text": [
      "[4/24] Loss_D: 0.1304 Loss_G: 4.5626 D(x): 3.9153 D(G(z)): -2.9990 / -4.54742390\r"
     ]
    },
    {
     "data": {
      "application/vnd.jupyter.widget-view+json": {
       "model_id": "ba67f3f4ce6f4571ae2409b061660728",
       "version_major": 2,
       "version_minor": 0
      },
      "text/plain": [
       "  0%|          | 0/782 [00:00<?, ?it/s]"
      ]
     },
     "metadata": {},
     "output_type": "display_data"
    },
    {
     "name": "stdout",
     "output_type": "stream",
     "text": [
      "[5/24] Loss_D: 0.0373 Loss_G: 4.7415 D(x): 4.1523 D(G(z)): -5.0187 / -4.72912680\r"
     ]
    },
    {
     "data": {
      "application/vnd.jupyter.widget-view+json": {
       "model_id": "003b35f6a9dc4407904b60763b9c1823",
       "version_major": 2,
       "version_minor": 0
      },
      "text/plain": [
       "  0%|          | 0/782 [00:00<?, ?it/s]"
      ]
     },
     "metadata": {},
     "output_type": "display_data"
    },
    {
     "name": "stdout",
     "output_type": "stream",
     "text": [
      "[6/24] Loss_D: 0.5018 Loss_G: 2.0569 D(x): 2.0322 D(G(z)): -1.1913 / -1.8946179290\r"
     ]
    },
    {
     "data": {
      "application/vnd.jupyter.widget-view+json": {
       "model_id": "40553c7281f44716a5f221fb2ed4d08e",
       "version_major": 2,
       "version_minor": 0
      },
      "text/plain": [
       "  0%|          | 0/782 [00:00<?, ?it/s]"
      ]
     },
     "metadata": {},
     "output_type": "display_data"
    },
    {
     "name": "stdout",
     "output_type": "stream",
     "text": [
      "[7/24] Loss_D: 0.2902 Loss_G: 2.4330 D(x): 2.1933 D(G(z)): -2.1951 / -2.31372516\r"
     ]
    },
    {
     "data": {
      "application/vnd.jupyter.widget-view+json": {
       "model_id": "e32bcb08fc0a45afaf076167eff902d4",
       "version_major": 2,
       "version_minor": 0
      },
      "text/plain": [
       "  0%|          | 0/782 [00:00<?, ?it/s]"
      ]
     },
     "metadata": {},
     "output_type": "display_data"
    },
    {
     "name": "stdout",
     "output_type": "stream",
     "text": [
      "[8/24] Loss_D: 0.1488 Loss_G: 3.6134 D(x): 3.2394 D(G(z)): -3.1334 / -3.57410498\r"
     ]
    },
    {
     "data": {
      "application/vnd.jupyter.widget-view+json": {
       "model_id": "ba695f93bfa549ba83b352d1cb909f23",
       "version_major": 2,
       "version_minor": 0
      },
      "text/plain": [
       "  0%|          | 0/782 [00:00<?, ?it/s]"
      ]
     },
     "metadata": {},
     "output_type": "display_data"
    },
    {
     "name": "stdout",
     "output_type": "stream",
     "text": [
      "[9/24] Loss_D: 0.2597 Loss_G: 3.4613 D(x): 2.8552 D(G(z)): -2.1253 / -3.41962397\r"
     ]
    },
    {
     "data": {
      "application/vnd.jupyter.widget-view+json": {
       "model_id": "4d6b27837d16440b8fdfeae38603433a",
       "version_major": 2,
       "version_minor": 0
      },
      "text/plain": [
       "  0%|          | 0/782 [00:00<?, ?it/s]"
      ]
     },
     "metadata": {},
     "output_type": "display_data"
    },
    {
     "name": "stdout",
     "output_type": "stream",
     "text": [
      "[10/24] Loss_D: 0.0429 Loss_G: 3.9761 D(x): 4.5287 D(G(z)): -4.8745 / -3.94973978\r"
     ]
    },
    {
     "data": {
      "application/vnd.jupyter.widget-view+json": {
       "model_id": "909a748af873499c9b9145e2e52a8381",
       "version_major": 2,
       "version_minor": 0
      },
      "text/plain": [
       "  0%|          | 0/782 [00:00<?, ?it/s]"
      ]
     },
     "metadata": {},
     "output_type": "display_data"
    },
    {
     "name": "stdout",
     "output_type": "stream",
     "text": [
      "[11/24] Loss_D: 0.0110 Loss_G: 5.5335 D(x): 5.7814 D(G(z)): -5.9456 / -5.5269734002\r"
     ]
    },
    {
     "data": {
      "application/vnd.jupyter.widget-view+json": {
       "model_id": "d66a2375fa8d404e9294e9cc1443966e",
       "version_major": 2,
       "version_minor": 0
      },
      "text/plain": [
       "  0%|          | 0/782 [00:00<?, ?it/s]"
      ]
     },
     "metadata": {},
     "output_type": "display_data"
    },
    {
     "name": "stdout",
     "output_type": "stream",
     "text": [
      "[12/24] Loss_D: 0.0089 Loss_G: 5.7194 D(x): 6.1382 D(G(z)): -5.5084 / -5.7151984017\r"
     ]
    },
    {
     "data": {
      "application/vnd.jupyter.widget-view+json": {
       "model_id": "54c5caa1a6e448a2ae1576202e704845",
       "version_major": 2,
       "version_minor": 0
      },
      "text/plain": [
       "  0%|          | 0/782 [00:00<?, ?it/s]"
      ]
     },
     "metadata": {},
     "output_type": "display_data"
    },
    {
     "name": "stdout",
     "output_type": "stream",
     "text": [
      "[13/24] Loss_D: 0.6158 Loss_G: 3.0813 D(x): 2.0926 D(G(z)): -0.8976 / -3.0299408450\r"
     ]
    },
    {
     "data": {
      "application/vnd.jupyter.widget-view+json": {
       "model_id": "adf520acee6f403c97aa6231d9f09821",
       "version_major": 2,
       "version_minor": 0
      },
      "text/plain": [
       "  0%|          | 0/782 [00:00<?, ?it/s]"
      ]
     },
     "metadata": {},
     "output_type": "display_data"
    },
    {
     "name": "stdout",
     "output_type": "stream",
     "text": [
      "[14/24] Loss_D: 0.0145 Loss_G: 5.6234 D(x): 5.4420 D(G(z)): -6.0099 / -5.61662\r"
     ]
    },
    {
     "data": {
      "application/vnd.jupyter.widget-view+json": {
       "model_id": "11e4f4c8b80f408785488616fede83d5",
       "version_major": 2,
       "version_minor": 0
      },
      "text/plain": [
       "  0%|          | 0/782 [00:00<?, ?it/s]"
      ]
     },
     "metadata": {},
     "output_type": "display_data"
    },
    {
     "name": "stdout",
     "output_type": "stream",
     "text": [
      "[15/24] Loss_D: 0.4063 Loss_G: 2.7791 D(x): 1.9782 D(G(z)): -2.2812 / -2.69024114\r"
     ]
    },
    {
     "data": {
      "application/vnd.jupyter.widget-view+json": {
       "model_id": "76e3bb926f3643c992e5a554a7571323",
       "version_major": 2,
       "version_minor": 0
      },
      "text/plain": [
       "  0%|          | 0/782 [00:00<?, ?it/s]"
      ]
     },
     "metadata": {},
     "output_type": "display_data"
    },
    {
     "name": "stdout",
     "output_type": "stream",
     "text": [
      "[16/24] Loss_D: 0.0257 Loss_G: 4.9420 D(x): 4.8394 D(G(z)): -6.3930 / -4.92983461\r"
     ]
    },
    {
     "data": {
      "application/vnd.jupyter.widget-view+json": {
       "model_id": "8fd5b79d5a634d7d840847fb75a70361",
       "version_major": 2,
       "version_minor": 0
      },
      "text/plain": [
       "  0%|          | 0/782 [00:00<?, ?it/s]"
      ]
     },
     "metadata": {},
     "output_type": "display_data"
    },
    {
     "name": "stdout",
     "output_type": "stream",
     "text": [
      "[17/24] Loss_D: 0.0242 Loss_G: 3.0500 D(x): 4.3082 D(G(z)): -6.6574 / -2.96468921\r"
     ]
    },
    {
     "data": {
      "application/vnd.jupyter.widget-view+json": {
       "model_id": "00f1a757bd62495f8636504f53478a2c",
       "version_major": 2,
       "version_minor": 0
      },
      "text/plain": [
       "  0%|          | 0/782 [00:00<?, ?it/s]"
      ]
     },
     "metadata": {},
     "output_type": "display_data"
    },
    {
     "name": "stdout",
     "output_type": "stream",
     "text": [
      "[18/24] Loss_D: 0.0902 Loss_G: 4.1883 D(x): 4.7420 D(G(z)): -2.9327 / -4.16802965\r"
     ]
    },
    {
     "data": {
      "application/vnd.jupyter.widget-view+json": {
       "model_id": "4cdd1a3663ea466289f388958039152a",
       "version_major": 2,
       "version_minor": 0
      },
      "text/plain": [
       "  0%|          | 0/782 [00:00<?, ?it/s]"
      ]
     },
     "metadata": {},
     "output_type": "display_data"
    },
    {
     "name": "stdout",
     "output_type": "stream",
     "text": [
      "[19/24] Loss_D: 0.0105 Loss_G: 5.6877 D(x): 6.0607 D(G(z)): -5.3270 / -5.68324124\r"
     ]
    },
    {
     "data": {
      "application/vnd.jupyter.widget-view+json": {
       "model_id": "a4500fb0b1904871a7f829d4cd6ba04e",
       "version_major": 2,
       "version_minor": 0
      },
      "text/plain": [
       "  0%|          | 0/782 [00:00<?, ?it/s]"
      ]
     },
     "metadata": {},
     "output_type": "display_data"
    },
    {
     "name": "stdout",
     "output_type": "stream",
     "text": [
      "[20/24] Loss_D: 0.0105 Loss_G: 5.5454 D(x): 5.6174 D(G(z)): -6.0616 / -5.53959151\r"
     ]
    },
    {
     "data": {
      "application/vnd.jupyter.widget-view+json": {
       "model_id": "c718d8a67fe14d67934820d9ada9d020",
       "version_major": 2,
       "version_minor": 0
      },
      "text/plain": [
       "  0%|          | 0/782 [00:00<?, ?it/s]"
      ]
     },
     "metadata": {},
     "output_type": "display_data"
    },
    {
     "name": "stdout",
     "output_type": "stream",
     "text": [
      "[21/24] Loss_D: 2.5538 Loss_G: 1.9455 D(x): -2.2304 D(G(z)): -6.4696 / -1.636719\r"
     ]
    },
    {
     "data": {
      "application/vnd.jupyter.widget-view+json": {
       "model_id": "2ac325bbfe3a4a4b9998002e1f9f9b6b",
       "version_major": 2,
       "version_minor": 0
      },
      "text/plain": [
       "  0%|          | 0/782 [00:00<?, ?it/s]"
      ]
     },
     "metadata": {},
     "output_type": "display_data"
    },
    {
     "name": "stdout",
     "output_type": "stream",
     "text": [
      "[22/24] Loss_D: 0.0168 Loss_G: 5.1667 D(x): 6.3359 D(G(z)): -5.8280 / -5.15741617\r"
     ]
    },
    {
     "data": {
      "application/vnd.jupyter.widget-view+json": {
       "model_id": "b1ec04fcc9fd44cf9cdb982aeadaaa97",
       "version_major": 2,
       "version_minor": 0
      },
      "text/plain": [
       "  0%|          | 0/782 [00:00<?, ?it/s]"
      ]
     },
     "metadata": {},
     "output_type": "display_data"
    },
    {
     "name": "stdout",
     "output_type": "stream",
     "text": [
      "[23/24] Loss_D: 0.0249 Loss_G: 2.9029 D(x): 5.4405 D(G(z)): -8.5798 / -2.7541\r"
     ]
    },
    {
     "data": {
      "application/vnd.jupyter.widget-view+json": {
       "model_id": "4b33060f0fc74bb194aefab2f61595ec",
       "version_major": 2,
       "version_minor": 0
      },
      "text/plain": [
       "  0%|          | 0/782 [00:00<?, ?it/s]"
      ]
     },
     "metadata": {},
     "output_type": "display_data"
    },
    {
     "name": "stdout",
     "output_type": "stream",
     "text": [
      "[24/24] Loss_D: 0.5430 Loss_G: 2.4967 D(x): 1.2931 D(G(z)): -1.7888 / -2.38734274\r"
     ]
    }
   ],
   "source": [
    "niter = 25\n",
    "g_loss = []\n",
    "d_loss = []\n",
    "\n",
    "for epoch in range(niter):\n",
    "\tfor batch in tqdm(dataloader, leave = True, position=0):\n",
    "\t\timages, _ = batch\n",
    "\t\tbatch_size = images.size(0)\n",
    "\t\t############################\n",
    "\t\t# (1) Update D network: maximize log(D(x)) + log(1 - D(G(z)))\n",
    "\t\t###########################\n",
    "\t\t# train with real\n",
    "\t\tnetD.zero_grad()\n",
    "\t\tlabel = torch.full((batch_size,), real_label, device=config.DEVICE, dtype=torch.float)\n",
    "\n",
    "\t\toutput = netD(images)\n",
    "\t\terrD_real = criterion(output, label)\n",
    "\t\terrD_real.backward()\n",
    "\t\tD_x = output.mean().item()\n",
    "\n",
    "\t\t# train with fake\n",
    "\t\tnoise = torch.randn(batch_size, latent_size, 1, 1, device=config.DEVICE)\n",
    "\t\tfake = netG(noise)\n",
    "\t\tlabel.fill_(fake_label)\n",
    "\t\toutput = netD(fake.detach())\n",
    "\t\terrD_fake = criterion(output, label)\n",
    "\t\terrD_fake.backward()\n",
    "\t\tD_G_z1 = output.mean().item()\n",
    "\t\terrD = errD_real + errD_fake\n",
    "\t\toptimizerD.step()\n",
    "\n",
    "\t\t############################\n",
    "\t\t# (2) Update G network: maximize log(D(G(z)))\n",
    "\t\t###########################\n",
    "\t\tnetG.zero_grad()\n",
    "\t\tlabel.fill_(real_label)  # fake labels are real for generator cost\n",
    "\t\toutput = netD(fake)\n",
    "\t\terrG = criterion(output, label)\n",
    "\t\terrG.backward()\n",
    "\t\tD_G_z2 = output.mean().item()\n",
    "\t\toptimizerG.step()\n",
    "\n",
    "\t\ts = '[%d/%d] Loss_D: %.4f Loss_G: %.4f D(x): %.4f D(G(z)): %.4f / %.4f' % (epoch, niter-1, errD.item(), errG.item(), D_x, D_G_z1, D_G_z2)\n",
    "\t\t\n",
    "\t\ttqdm.write(s, end = \"\\r\")\n",
    "\t\t\n",
    "\tfake = netG(fixed_noise)\n",
    "\tvutils.save_image(fake.detach(),f'{PATH}/fake_samples_epoch_{epoch:03d}.png', normalize=True)\n",
    "\t\t\n",
    "\t\n",
    "\t\n",
    "\t# Check pointing for every epoch\n",
    "\ttorch.save(netG.state_dict(), f'{PATH}/netG_epoch_{epoch:03d}.pt')\n",
    "\t# torch.save(netD.state_dict(), 'DCGAN/netD_epoch_%d.pth' % (epoch))"
   ]
  }
 ],
 "metadata": {
  "kernelspec": {
   "display_name": "GAN",
   "language": "python",
   "name": "python3"
  },
  "language_info": {
   "codemirror_mode": {
    "name": "ipython",
    "version": 3
   },
   "file_extension": ".py",
   "mimetype": "text/x-python",
   "name": "python",
   "nbconvert_exporter": "python",
   "pygments_lexer": "ipython3",
   "version": "3.9.0"
  }
 },
 "nbformat": 4,
 "nbformat_minor": 2
}
