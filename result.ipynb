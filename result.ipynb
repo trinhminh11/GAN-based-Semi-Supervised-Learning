{
 "cells": [
  {
   "cell_type": "code",
   "execution_count": 1,
   "metadata": {},
   "outputs": [],
   "source": [
    "import torch\n",
    "from torch import optim\n",
    "import matplotlib.pyplot as plt\n",
    "from torchvision.utils import make_grid\n",
    "from torch.utils.data.dataloader import DataLoader\n",
    "from torchvision.utils import make_grid\n",
    "import torchvision.transforms as tt\n",
    "\n",
    "from utils import CustomDataSet, load_data, print_config, DeviceDataLoader, supervised_samples, calc_mean_std, plotting, get_PATH, set_random_seed, CreateDataLoader\n",
    "import config\n",
    "\n",
    "from Classifier import Classifier\n",
    "from Generator import Generator\n",
    "from GANSSL import GANSSL, Discriminator"
   ]
  },
  {
   "cell_type": "code",
   "execution_count": 2,
   "metadata": {},
   "outputs": [
    {
     "name": "stdout",
     "output_type": "stream",
     "text": [
      "RANDOM_SEED   :  11042004\n",
      "DATA_DIR      :    ./data\n",
      "USED_DATA     :    DOODLE\n",
      "NUM_LABELLED  :        -1\n",
      "DEVICE        :    cuda:0\n",
      "GAN_BATCH_SIZE:       128\n"
     ]
    }
   ],
   "source": [
    "print_config()"
   ]
  },
  {
   "cell_type": "code",
   "execution_count": 3,
   "metadata": {},
   "outputs": [
    {
     "name": "stdout",
     "output_type": "stream",
     "text": [
      "Setting seeds ...... \n",
      "\n"
     ]
    }
   ],
   "source": [
    "set_random_seed(config.RANDOM_SEED)"
   ]
  },
  {
   "cell_type": "code",
   "execution_count": 4,
   "metadata": {},
   "outputs": [],
   "source": [
    "if config.USED_DATA == \"CIFAR10\":\n",
    "\tmean = [0.5]*3\n",
    "\tstd = [0.5]*3\n",
    "\ttrain_tfm = tt.Compose([\n",
    "\t\ttt.RandomCrop(32, padding=4, padding_mode='edge'),\n",
    "\t\ttt.RandomHorizontalFlip(),\n",
    "\t\ttt.Normalize(mean, std, inplace=True)\n",
    "\t])\n",
    "\n",
    "else:\n",
    "# if config.USED_DATA == \"MNIST\" or config.USED_DATA == \"DOODLE\":\n",
    "\tmean = [0.5]\n",
    "\tstd = [0.5]\n",
    "\ttrain_tfm = tt.Compose([\n",
    "\t\ttt.Resize(32),\n",
    "\t\ttt.Normalize(mean, std, inplace=True)\n",
    "\t])\n",
    "\n",
    "test_tfm = tt.Compose([\n",
    "\ttt.Resize(32),\n",
    "\ttt.Normalize(mean, std)\n",
    "])"
   ]
  },
  {
   "cell_type": "code",
   "execution_count": 5,
   "metadata": {},
   "outputs": [],
   "source": [
    "train_ds, test_ds, classes = load_data(train_tfm, test_tfm)"
   ]
  },
  {
   "cell_type": "code",
   "execution_count": 6,
   "metadata": {},
   "outputs": [
    {
     "data": {
      "text/plain": [
       "(10, 1)"
      ]
     },
     "execution_count": 6,
     "metadata": {},
     "output_type": "execute_result"
    }
   ],
   "source": [
    "n_classes = len(classes)\n",
    "channels = train_ds.x.shape[1]\n",
    "n_classes, channels"
   ]
  },
  {
   "cell_type": "code",
   "execution_count": 7,
   "metadata": {},
   "outputs": [],
   "source": [
    "test_dl = CreateDataLoader(test_ds, batch_size=512, device=config.DEVICE)"
   ]
  },
  {
   "cell_type": "code",
   "execution_count": 8,
   "metadata": {},
   "outputs": [],
   "source": [
    "N_Labelled = [50, 100, 500, 'full']\n",
    "if config.USED_DATA == 'EMNIST':\n",
    "\tN_Labelled = [100, 200, 1000, 'full']\n",
    "res = {}\n",
    "for n in N_Labelled:\n",
    "\tres[n] = []\n",
    "\tname = \"CNN\"\n",
    "\n",
    "\n",
    "\tPATH = f'{config.USED_DATA}/{name}/_{n}'\n",
    "\t\n",
    "\tmodel = Classifier(channels, n_classes).to(config.DEVICE, non_blocking=True)\n",
    "\tmodel.load(PATH + \".pt\")\n",
    "\tres[n].append(model.evaluate(test_dl))\n",
    "\n",
    "\tname = \"GANSSL\"\n",
    "\n",
    "\tPATH = f'{config.USED_DATA}/{name}/_{n}'\n",
    "\n",
    "\tif n != 'full':\n",
    "\t\tmodel = GANSSL(Generator(100, channels), Discriminator(channels, n_classes), 100, config.DEVICE)\n",
    "\t\tmodel.load_dis_state_dict(PATH + \".pt\")\n",
    "\t\tres[n].append(model.evaluate(test_dl))"
   ]
  },
  {
   "cell_type": "code",
   "execution_count": 9,
   "metadata": {},
   "outputs": [
    {
     "name": "stdout",
     "output_type": "stream",
     "text": [
      "50: [0.3603000044822693, 0.6583]\n",
      "100: [0.6449000239372253, 0.7211]\n",
      "500: [0.8313999772071838, 0.8473]\n",
      "full: [0.9455000162124634]\n"
     ]
    }
   ],
   "source": [
    "for n, r in res.items():\n",
    "\tprint(f'{n}: {r}')"
   ]
  },
  {
   "cell_type": "code",
   "execution_count": null,
   "metadata": {},
   "outputs": [],
   "source": []
  }
 ],
 "metadata": {
  "kernelspec": {
   "display_name": "GAN",
   "language": "python",
   "name": "python3"
  },
  "language_info": {
   "codemirror_mode": {
    "name": "ipython",
    "version": 3
   },
   "file_extension": ".py",
   "mimetype": "text/x-python",
   "name": "python",
   "nbconvert_exporter": "python",
   "pygments_lexer": "ipython3",
   "version": "3.9.0"
  }
 },
 "nbformat": 4,
 "nbformat_minor": 2
}
