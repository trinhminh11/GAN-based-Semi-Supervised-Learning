{
 "cells": [
  {
   "cell_type": "code",
   "execution_count": 1,
   "metadata": {},
   "outputs": [],
   "source": [
    "import torch\n",
    "from torch import optim\n",
    "from torch import Tensor\n",
    "import matplotlib.pyplot as plt\n",
    "from torchvision.utils import make_grid\n",
    "from torch.utils.data import random_split\n",
    "import torchvision.transforms as tt\n",
    "import torch.nn as nn\n",
    "import torch.nn.functional as F \n",
    "\n",
    "from utils import *\n",
    "import config\n",
    "import random\n",
    "\n",
    "from typing import Type\n",
    "\n",
    "from Classify import Classifier\n",
    "from Network_model import Generator, ConvModel\n",
    "\n",
    "from tqdm.notebook import tqdm\n",
    "import copy"
   ]
  },
  {
   "cell_type": "code",
   "execution_count": 2,
   "metadata": {},
   "outputs": [
    {
     "name": "stdout",
     "output_type": "stream",
     "text": [
      "RANDOM_SEED   :  11042004\n",
      "DATA_DIR      :    ./data\n",
      "USED_DATA     :    DOODLE\n",
      "NUM_LABELLED  :       100\n",
      "DEVICE        :    cuda:0\n",
      "EPOCHS        :        20\n",
      "BATCH_SIZE    :        32\n",
      "LEARNING_RATE :    0.0002\n",
      "SCHED         :     False\n",
      "GAN_BATCH_SIZE:       128\n"
     ]
    }
   ],
   "source": [
    "print_config()"
   ]
  },
  {
   "cell_type": "code",
   "execution_count": 3,
   "metadata": {},
   "outputs": [
    {
     "name": "stdout",
     "output_type": "stream",
     "text": [
      "Setting seeds ...... \n",
      "\n"
     ]
    }
   ],
   "source": [
    "set_random_seed(config.RANDOM_SEED)\n",
    "random.seed(config.RANDOM_SEED)"
   ]
  },
  {
   "cell_type": "code",
   "execution_count": 4,
   "metadata": {},
   "outputs": [],
   "source": [
    "name = \"GANSSL\""
   ]
  },
  {
   "cell_type": "code",
   "execution_count": 5,
   "metadata": {},
   "outputs": [
    {
     "data": {
      "text/plain": [
       "'DOODLE/GANSSL/_100'"
      ]
     },
     "execution_count": 5,
     "metadata": {},
     "output_type": "execute_result"
    }
   ],
   "source": [
    "PATH = get_PATH(name)\n",
    "PATH"
   ]
  },
  {
   "cell_type": "code",
   "execution_count": 6,
   "metadata": {},
   "outputs": [],
   "source": [
    "\n",
    "if config.USED_DATA == \"CIFAR10\":\n",
    "\tmean = [0.5]*3\n",
    "\tstd = [0.5]*3\n",
    "\n",
    "\ttrain_tfm = tt.Compose([\n",
    "\t\ttt.RandomCrop(32, padding=4, padding_mode='edge'),\n",
    "\t\ttt.RandomHorizontalFlip(),\n",
    "\t\ttt.Normalize(mean, std, inplace=True)\n",
    "\t])\n",
    "\n",
    "if config.USED_DATA == \"MNIST\" or config.USED_DATA == \"DOODLE\":\n",
    "\tmean = [0.5]\n",
    "\tstd = [0.5]\n",
    "\ttrain_tfm = tt.Compose([\n",
    "\t\ttt.Resize(32),\n",
    "\t\ttt.Normalize(mean, std, inplace=True)\n",
    "\t])\n",
    "\n",
    "test_tfm = tt.Compose([\n",
    "\ttt.Resize(32),\n",
    "\ttt.Normalize(mean, std)\n",
    "])"
   ]
  },
  {
   "cell_type": "code",
   "execution_count": 7,
   "metadata": {},
   "outputs": [],
   "source": [
    "train_ds, test_ds, classes = load_data(train_tfm, test_tfm)"
   ]
  },
  {
   "cell_type": "code",
   "execution_count": 8,
   "metadata": {},
   "outputs": [],
   "source": [
    "X_full = train_ds.x\n",
    "y_full = train_ds.y"
   ]
  },
  {
   "cell_type": "code",
   "execution_count": 9,
   "metadata": {},
   "outputs": [
    {
     "data": {
      "text/plain": [
       "['0 - helicopter',\n",
       " '1 - car',\n",
       " '2 - book',\n",
       " '3 - windmill',\n",
       " '4 - cat',\n",
       " '5 - umbrella',\n",
       " '6 - octopus',\n",
       " '7 - bird',\n",
       " '8 - hat',\n",
       " '9 - birthday cake']"
      ]
     },
     "execution_count": 9,
     "metadata": {},
     "output_type": "execute_result"
    }
   ],
   "source": [
    "classes"
   ]
  },
  {
   "cell_type": "code",
   "execution_count": 10,
   "metadata": {},
   "outputs": [
    {
     "data": {
      "text/plain": [
       "(10, 1)"
      ]
     },
     "execution_count": 10,
     "metadata": {},
     "output_type": "execute_result"
    }
   ],
   "source": [
    "latent_size = 100\n",
    "n_classes = len(classes)\n",
    "channels = X_full.shape[1] # MNIST\n",
    "n_classes, channels"
   ]
  },
  {
   "cell_type": "code",
   "execution_count": 11,
   "metadata": {},
   "outputs": [],
   "source": [
    "# test dataloader\n",
    "test_dl = CreateDataLoader(test_ds, batch_size=config.BATCH_SIZE, device=config.DEVICE)"
   ]
  },
  {
   "cell_type": "code",
   "execution_count": 12,
   "metadata": {},
   "outputs": [],
   "source": [
    "X_sup, y_sup, X_unsup, _ = supervised_samples(X_full, y_full, config.NUM_LABELLED, n_classes, get_unsup=True) # type: ignore"
   ]
  },
  {
   "cell_type": "code",
   "execution_count": 13,
   "metadata": {},
   "outputs": [],
   "source": [
    "class Discriminator(nn.Module):\n",
    "\tdef __init__(self, in_channels, n_classes) -> None:\n",
    "\t\tsuper().__init__()\n",
    "\n",
    "\t\tself.conv = ConvModel(in_channels)\n",
    "\n",
    "\t\tself.dropout = nn.Dropout(0.5)\n",
    "\n",
    "\t\tself.classifier = nn.Linear(512, n_classes)\n",
    "\t\t\n",
    "\tdef forward(self, X: Tensor):\n",
    "\t\tout = self.conv(X)\n",
    "\t\tout = self.dropout(out)\n",
    "\t\tout = self.classifier(out)\n",
    "\t\treturn out"
   ]
  },
  {
   "cell_type": "code",
   "execution_count": 14,
   "metadata": {},
   "outputs": [],
   "source": [
    "def custom_function(X: Tensor):\n",
    "\tZ_x = torch.sum(torch.exp(X), dim=-1)\n",
    "\tD_x = Z_x / (Z_x+1)\n",
    "\treturn D_x"
   ]
  },
  {
   "cell_type": "code",
   "execution_count": 15,
   "metadata": {},
   "outputs": [],
   "source": [
    "class GAN:\n",
    "\tdef __init__(self, latent_size, n_channels, n_classes, device) -> None:\n",
    "\t\tself.generator = Generator(latent_size, n_channels)\n",
    "\t\tself.discriminator = Discriminator(n_channels, n_classes)\n",
    "\n",
    "\t\tself.latent_size = latent_size\n",
    "\n",
    "\t\tself.CEloss = nn.CrossEntropyLoss()\n",
    "\t\tself.BCEloss = nn.BCELoss()\n",
    "\n",
    "\t\tself.n_classes = n_classes\n",
    "\n",
    "\t\tself.resize = tt.Resize(32)\n",
    "\n",
    "\t\tself.device = device\n",
    "\n",
    "\t\tself.to(device)\n",
    "\n",
    "\tdef to(self, device):\n",
    "\t\tself.generator = self.generator.to(device)\n",
    "\t\tself.discriminator = self.discriminator.to(device)\n",
    "\t\n",
    "\tdef load_dis_state_dict(self, file):\n",
    "\t\tstate_dict: dict = torch.load(file)\n",
    " \n",
    "\t\town_state = self.discriminator.state_dict()\n",
    "\t\tfor name, param in state_dict.items():\n",
    "\t\t\tif name not in own_state:\n",
    "\t\t\t\tcontinue\n",
    "\t\t\t\n",
    "\t\t\tif isinstance(param, nn.Parameter):\n",
    "\t\t\t\t# backwards compatibility for serialized parameters\n",
    "\t\t\t\tparam = param.data\n",
    "\t\t\town_state[name].copy_(param)\n",
    "\t\n",
    "\tdef load_gen_state_dict(self, file):\n",
    "\t\tself.generator.load_state_dict(torch.load(file))\n",
    "\t\n",
    "\t@torch.no_grad()\n",
    "\tdef evaluate(self, dataloader: DeviceDataLoader):\n",
    "\t\tself.discriminator.eval()\n",
    "\t\tcorrected = 0\n",
    "\t\n",
    "\t\tfor b in dataloader:\n",
    "\t\t\timages, labels = b\n",
    "\t\t\touts = self.discriminator.forward(images)\n",
    "\t\t\t_, preds = torch.max(outs, dim=1)\n",
    "\t\t\touts = torch.argmax(outs, dim=1)\n",
    "\t\t\tcorrected += torch.sum(preds == labels).item()\n",
    "\t\t\n",
    "\t\treturn corrected / dataloader.num_data()\n",
    "\n",
    "\tdef classifier_step(self, X, y):\n",
    "\t\touts = self.discriminator(X)\n",
    "\t\tloss = self.CEloss(outs, y)\n",
    "\n",
    "\t\treturn loss\n",
    "\n",
    "\tdef discriminator_step(self, X: Tensor, y: Tensor):\n",
    "\t\touts = self.discriminator(X)\n",
    "\t\touts = custom_function(outs)\n",
    "\t\tloss = self.BCEloss(outs, y)\n",
    "\n",
    "\t\treturn loss\n",
    "\t\n",
    "\tdef discriminator_real_step(self, X):\n",
    "\t\tbatch_size = X.shape[0]\n",
    "\t\t\n",
    "\t\ty_hat = torch.zeros([batch_size], device = self.device)\n",
    "\n",
    "\t\tloss = self.discriminator_step(X, y_hat)\n",
    "\t\t\n",
    "\t\treturn loss\n",
    "\n",
    "\t\n",
    "\tdef discriminator_fake_step(self, batch_size):\n",
    "\t\tz = torch.randn([batch_size, self.latent_size, 1, 1], device=self.device)\n",
    "\t\tfake_images = self.generator(z)\n",
    "\n",
    "\t\tfake_images = self.resize(fake_images)\n",
    "\n",
    "\t\ty_hat = torch.zeros([batch_size], device=self.device)\n",
    "\n",
    "\t\tloss = self.discriminator_step(fake_images, y_hat)\n",
    "\n",
    "\t\treturn loss\n",
    "\t\n",
    "\tdef generator_step(self, batch_size):\n",
    "\t\tz = torch.randn([batch_size, self.latent_size, 1, 1], device=self.device)\n",
    "\t\tfake_images = self.generator(z)\n",
    "\n",
    "\t\tfake_images = self.resize(fake_images)\n",
    "\n",
    "\t\touts = self.discriminator(fake_images)\n",
    "\n",
    "\t\touts = F.softmax(outs, dim=1)[:, -1]\n",
    "\n",
    "\t\ty_hat = torch.zeros([batch_size], device=self.device)\n",
    "\n",
    "\t\tloss = self.BCEloss(outs, y_hat)\n",
    "\n",
    "\t\treturn loss\n",
    "\t\n",
    "\t@staticmethod\n",
    "\tdef get_lr(optimizer: Type[optim.Optimizer]):\n",
    "\t\tfor param_group in optimizer.param_groups:\n",
    "\t\t\treturn param_group['lr']\n",
    "\t\n",
    "\tdef fit(self, epochs, batch_size, batch_per_epoch, dis_lr, sup_ds: CustomDataSet, full_ds: CustomDataSet, optimizer: Type[optim.Optimizer], opt_params = {}, sched = False, PATH = \".\", save = False):\n",
    "\n",
    "\t\thistory: dict[str, list] = {'epochs': epochs, 'Loss': []}\n",
    "\n",
    "\t\tif sched:\n",
    "\t\t\thistory['Learning rate'] = []\n",
    "\n",
    "\t\toptimizerD = optimizer(self.discriminator.parameters(), lr = dis_lr, **opt_params)\n",
    "\n",
    "\t\t# optimizerG = optimizer(self.generator.parameters(), lr = dis_lr, **opt_params)\n",
    "\n",
    "\t\tif sched:\n",
    "\t\t\tOneCycleLR = optim.lr_scheduler.OneCycleLR(optimizerD, dis_lr, epochs*batch_per_epoch)\n",
    "\n",
    "\t\tn_sup = len(sup_ds)\n",
    "\t\tn_data = len(full_ds)\n",
    "\n",
    "\n",
    "\t\tfor epoch in range(epochs):\n",
    "\t\t\tself.discriminator.train()\n",
    "\n",
    "\t\t\tlrs = []\n",
    "\n",
    "\t\t\tprint(f\"Epoch [{epoch}]:\")\n",
    "\t\t\tfor i in tqdm(range(batch_per_epoch)):\n",
    "\t\t\t\tsup_images, labels = random_split(sup_ds, [batch_size, n_sup-batch_size])[0][:]\n",
    "\t\t\t\tC_loss = self.classifier_step(sup_images.to(self.device), labels.to(self.device)) \n",
    "\n",
    "\n",
    "\t\t\t\tunsup_images, _ = random_split(full_ds, [batch_size, n_data-batch_size])[0][:]\n",
    "\t\t\t\treal_loss = self.discriminator_real_step(unsup_images.to(self.device))\n",
    "\t\t\t\tfake_loss = self.discriminator_fake_step(batch_size)\n",
    "\t\t\t\tD_loss = (real_loss + fake_loss)/2\n",
    "\n",
    "\t\t\t\tloss = C_loss + D_loss\n",
    "\t\t\t\tloss.backward()\n",
    "\n",
    "\t\t\t\toptimizerD.step()\n",
    "\n",
    "\t\t\t\tlrs.append(self.get_lr(optimizerD))\n",
    "\n",
    "\t\t\t\t# G_loss = self.generator_step(batch_size)\n",
    "\t\t\t\t# G_loss.backward()\n",
    "\t\t\t\t# optimizerG.step()\n",
    "\n",
    "\t\t\t\thistory['Loss'].append(C_loss.item())\n",
    "\n",
    "\t\t\t\ts = f'C_Loss: {C_loss:.5f}, D_Loss: {D_loss:.5f}'\n",
    "\t\t\t\t\n",
    "\t\t\t\tif sched:\n",
    "\t\t\t\t\tOneCycleLR.step()\n",
    "\t\t\t\t\ts += f', lrs: {lrs[0]:.6f}-> {lrs[-1]:.6f}'\n",
    "\n",
    "\t\t\t\ttqdm.write(s, end = \"\\r\")\n",
    "\n",
    "\t\t\ttqdm.write(\"\")\n",
    "\n",
    "\t\t\tif sched:\n",
    "\t\t\t\thistory['Learning rate'] += lrs\n",
    "\n",
    "\n",
    "\t\t\tif save:\n",
    "\t\t\t\ttorch.save(self.discriminator.state_dict(), PATH)\n",
    "\t\t\t\t\n",
    "\t\treturn history"
   ]
  },
  {
   "cell_type": "code",
   "execution_count": 16,
   "metadata": {},
   "outputs": [],
   "source": [
    "GANSSL = GAN(latent_size, channels, n_classes, config.DEVICE)"
   ]
  },
  {
   "cell_type": "code",
   "execution_count": 17,
   "metadata": {},
   "outputs": [],
   "source": [
    "GANSSL.load_gen_state_dict(f'DCGAN/{config.USED_DATA}/netG_epoch_009.pt')\n",
    "# GANSSL.discriminator.load_state_dict(torch.load(\"MNIST/CNN/_100.pt\"))"
   ]
  },
  {
   "cell_type": "code",
   "execution_count": 18,
   "metadata": {},
   "outputs": [],
   "source": [
    "sup_ds = CustomDataSet(X_sup, y_sup, train_tfm)\n",
    "full_ds = CustomDataSet(X_full, y_full, train_tfm)"
   ]
  },
  {
   "cell_type": "code",
   "execution_count": 19,
   "metadata": {},
   "outputs": [
    {
     "name": "stdout",
     "output_type": "stream",
     "text": [
      "Epoch [0]:\n"
     ]
    },
    {
     "data": {
      "application/vnd.jupyter.widget-view+json": {
       "model_id": "691c8ce579a5462495d2505a32d865e4",
       "version_major": 2,
       "version_minor": 0
      },
      "text/plain": [
       "  0%|          | 0/100 [00:00<?, ?it/s]"
      ]
     },
     "metadata": {},
     "output_type": "display_data"
    },
    {
     "name": "stdout",
     "output_type": "stream",
     "text": [
      "C_Loss: 0.17001, D_Loss: 0.15386\n",
      "Epoch [1]:\n"
     ]
    },
    {
     "data": {
      "application/vnd.jupyter.widget-view+json": {
       "model_id": "49e84231bf874447ab17abf61257693e",
       "version_major": 2,
       "version_minor": 0
      },
      "text/plain": [
       "  0%|          | 0/100 [00:00<?, ?it/s]"
      ]
     },
     "metadata": {},
     "output_type": "display_data"
    },
    {
     "name": "stdout",
     "output_type": "stream",
     "text": [
      "C_Loss: 0.07303, D_Loss: 0.03276\n",
      "Epoch [2]:\n"
     ]
    },
    {
     "data": {
      "application/vnd.jupyter.widget-view+json": {
       "model_id": "167816e81f444639b887c397d1c4d51b",
       "version_major": 2,
       "version_minor": 0
      },
      "text/plain": [
       "  0%|          | 0/100 [00:00<?, ?it/s]"
      ]
     },
     "metadata": {},
     "output_type": "display_data"
    },
    {
     "name": "stdout",
     "output_type": "stream",
     "text": [
      "C_Loss: 0.05863, D_Loss: 0.00995\n",
      "Epoch [3]:\n"
     ]
    },
    {
     "data": {
      "application/vnd.jupyter.widget-view+json": {
       "model_id": "1bb7a2c99cdc45dbab962eb424dda6e5",
       "version_major": 2,
       "version_minor": 0
      },
      "text/plain": [
       "  0%|          | 0/100 [00:00<?, ?it/s]"
      ]
     },
     "metadata": {},
     "output_type": "display_data"
    },
    {
     "name": "stdout",
     "output_type": "stream",
     "text": [
      "C_Loss: 0.01853, D_Loss: 0.00314\n",
      "Epoch [4]:\n"
     ]
    },
    {
     "data": {
      "application/vnd.jupyter.widget-view+json": {
       "model_id": "8b32a78ecda242138d3f649447cc58bb",
       "version_major": 2,
       "version_minor": 0
      },
      "text/plain": [
       "  0%|          | 0/100 [00:00<?, ?it/s]"
      ]
     },
     "metadata": {},
     "output_type": "display_data"
    },
    {
     "name": "stdout",
     "output_type": "stream",
     "text": [
      "C_Loss: 0.01126, D_Loss: 0.00140\n",
      "Epoch [5]:\n"
     ]
    },
    {
     "data": {
      "application/vnd.jupyter.widget-view+json": {
       "model_id": "e32a9a262baa452a8a4a941d0d2140ba",
       "version_major": 2,
       "version_minor": 0
      },
      "text/plain": [
       "  0%|          | 0/100 [00:00<?, ?it/s]"
      ]
     },
     "metadata": {},
     "output_type": "display_data"
    },
    {
     "name": "stdout",
     "output_type": "stream",
     "text": [
      "C_Loss: 0.00630, D_Loss: 0.00042\n",
      "Epoch [6]:\n"
     ]
    },
    {
     "data": {
      "application/vnd.jupyter.widget-view+json": {
       "model_id": "6ccc440d9f2147019cd24d17e38df077",
       "version_major": 2,
       "version_minor": 0
      },
      "text/plain": [
       "  0%|          | 0/100 [00:00<?, ?it/s]"
      ]
     },
     "metadata": {},
     "output_type": "display_data"
    },
    {
     "name": "stdout",
     "output_type": "stream",
     "text": [
      "C_Loss: 0.01314, D_Loss: 0.00017\n",
      "Epoch [7]:\n"
     ]
    },
    {
     "data": {
      "application/vnd.jupyter.widget-view+json": {
       "model_id": "16472e3a2dec4682b9d4607920eb8d6f",
       "version_major": 2,
       "version_minor": 0
      },
      "text/plain": [
       "  0%|          | 0/100 [00:00<?, ?it/s]"
      ]
     },
     "metadata": {},
     "output_type": "display_data"
    },
    {
     "name": "stdout",
     "output_type": "stream",
     "text": [
      "C_Loss: 0.00792, D_Loss: 0.00009\n",
      "Epoch [8]:\n"
     ]
    },
    {
     "data": {
      "application/vnd.jupyter.widget-view+json": {
       "model_id": "2a117c202bc94d50bdb81cced2d76b4a",
       "version_major": 2,
       "version_minor": 0
      },
      "text/plain": [
       "  0%|          | 0/100 [00:00<?, ?it/s]"
      ]
     },
     "metadata": {},
     "output_type": "display_data"
    },
    {
     "name": "stdout",
     "output_type": "stream",
     "text": [
      "C_Loss: 0.00489, D_Loss: 0.00003\n",
      "Epoch [9]:\n"
     ]
    },
    {
     "data": {
      "application/vnd.jupyter.widget-view+json": {
       "model_id": "7812f1616e594c098e387894ccef5dfb",
       "version_major": 2,
       "version_minor": 0
      },
      "text/plain": [
       "  0%|          | 0/100 [00:00<?, ?it/s]"
      ]
     },
     "metadata": {},
     "output_type": "display_data"
    },
    {
     "name": "stdout",
     "output_type": "stream",
     "text": [
      "C_Loss: 0.00590, D_Loss: 0.00001\n",
      "Epoch [10]:\n"
     ]
    },
    {
     "data": {
      "application/vnd.jupyter.widget-view+json": {
       "model_id": "e350126ff89b4579a12ed353266c21e0",
       "version_major": 2,
       "version_minor": 0
      },
      "text/plain": [
       "  0%|          | 0/100 [00:00<?, ?it/s]"
      ]
     },
     "metadata": {},
     "output_type": "display_data"
    },
    {
     "name": "stdout",
     "output_type": "stream",
     "text": [
      "C_Loss: 0.00396, D_Loss: 0.00001\n",
      "Epoch [11]:\n"
     ]
    },
    {
     "data": {
      "application/vnd.jupyter.widget-view+json": {
       "model_id": "b22a03b067ee437baa1ae4f92d65decd",
       "version_major": 2,
       "version_minor": 0
      },
      "text/plain": [
       "  0%|          | 0/100 [00:00<?, ?it/s]"
      ]
     },
     "metadata": {},
     "output_type": "display_data"
    },
    {
     "name": "stdout",
     "output_type": "stream",
     "text": [
      "C_Loss: 0.00654, D_Loss: 0.00000\n",
      "Epoch [12]:\n"
     ]
    },
    {
     "data": {
      "application/vnd.jupyter.widget-view+json": {
       "model_id": "2f9dc917f7ba4f9290b611cb5dccc92c",
       "version_major": 2,
       "version_minor": 0
      },
      "text/plain": [
       "  0%|          | 0/100 [00:00<?, ?it/s]"
      ]
     },
     "metadata": {},
     "output_type": "display_data"
    },
    {
     "name": "stdout",
     "output_type": "stream",
     "text": [
      "C_Loss: 0.00612, D_Loss: 0.00000\n",
      "Epoch [13]:\n"
     ]
    },
    {
     "data": {
      "application/vnd.jupyter.widget-view+json": {
       "model_id": "25f904adcf5f4fdd881055d52fda3188",
       "version_major": 2,
       "version_minor": 0
      },
      "text/plain": [
       "  0%|          | 0/100 [00:00<?, ?it/s]"
      ]
     },
     "metadata": {},
     "output_type": "display_data"
    },
    {
     "name": "stdout",
     "output_type": "stream",
     "text": [
      "C_Loss: 0.01153, D_Loss: 0.00000\n",
      "Epoch [14]:\n"
     ]
    },
    {
     "data": {
      "application/vnd.jupyter.widget-view+json": {
       "model_id": "3be07e76e3be438992c1670cfad0fe21",
       "version_major": 2,
       "version_minor": 0
      },
      "text/plain": [
       "  0%|          | 0/100 [00:00<?, ?it/s]"
      ]
     },
     "metadata": {},
     "output_type": "display_data"
    },
    {
     "name": "stdout",
     "output_type": "stream",
     "text": [
      "C_Loss: 0.00556, D_Loss: 0.00000\n",
      "Epoch [15]:\n"
     ]
    },
    {
     "data": {
      "application/vnd.jupyter.widget-view+json": {
       "model_id": "79ef6c6c5fb24d8bb050f5ff9bdec1dc",
       "version_major": 2,
       "version_minor": 0
      },
      "text/plain": [
       "  0%|          | 0/100 [00:00<?, ?it/s]"
      ]
     },
     "metadata": {},
     "output_type": "display_data"
    },
    {
     "name": "stdout",
     "output_type": "stream",
     "text": [
      "C_Loss: 0.00358, D_Loss: 0.00000\n",
      "Epoch [16]:\n"
     ]
    },
    {
     "data": {
      "application/vnd.jupyter.widget-view+json": {
       "model_id": "3806ab486034497f8bf707994739c3ec",
       "version_major": 2,
       "version_minor": 0
      },
      "text/plain": [
       "  0%|          | 0/100 [00:00<?, ?it/s]"
      ]
     },
     "metadata": {},
     "output_type": "display_data"
    },
    {
     "name": "stdout",
     "output_type": "stream",
     "text": [
      "C_Loss: 0.00362, D_Loss: 0.00000\n",
      "Epoch [17]:\n"
     ]
    },
    {
     "data": {
      "application/vnd.jupyter.widget-view+json": {
       "model_id": "412515dc8df94441b9ee110e83b3f787",
       "version_major": 2,
       "version_minor": 0
      },
      "text/plain": [
       "  0%|          | 0/100 [00:00<?, ?it/s]"
      ]
     },
     "metadata": {},
     "output_type": "display_data"
    },
    {
     "name": "stdout",
     "output_type": "stream",
     "text": [
      "C_Loss: 0.00452, D_Loss: 0.00000\n",
      "Epoch [18]:\n"
     ]
    },
    {
     "data": {
      "application/vnd.jupyter.widget-view+json": {
       "model_id": "8c41f5dabd264b1385d8d842475454c8",
       "version_major": 2,
       "version_minor": 0
      },
      "text/plain": [
       "  0%|          | 0/100 [00:00<?, ?it/s]"
      ]
     },
     "metadata": {},
     "output_type": "display_data"
    },
    {
     "name": "stdout",
     "output_type": "stream",
     "text": [
      "C_Loss: 0.00728, D_Loss: 0.00000\n",
      "Epoch [19]:\n"
     ]
    },
    {
     "data": {
      "application/vnd.jupyter.widget-view+json": {
       "model_id": "08ad3f38a81342df9b0a555e78fef7af",
       "version_major": 2,
       "version_minor": 0
      },
      "text/plain": [
       "  0%|          | 0/100 [00:00<?, ?it/s]"
      ]
     },
     "metadata": {},
     "output_type": "display_data"
    },
    {
     "name": "stdout",
     "output_type": "stream",
     "text": [
      "C_Loss: 0.00447, D_Loss: 0.00000\n"
     ]
    }
   ],
   "source": [
    "history = GANSSL.fit(20, 64, 100, 0.00001, sup_ds, full_ds, optim.RMSprop, sched = config.SCHED, PATH=PATH+\".pt\", save=True)"
   ]
  },
  {
   "cell_type": "code",
   "execution_count": 20,
   "metadata": {},
   "outputs": [
    {
     "data": {
      "text/plain": [
       "(0.6096, 0.6263)"
      ]
     },
     "execution_count": 20,
     "metadata": {},
     "output_type": "execute_result"
    }
   ],
   "source": [
    "d = Discriminator(channels, n_classes).to(config.DEVICE)\n",
    "d.load_state_dict(torch.load(f\"{config.USED_DATA}/CNN/_{config.NUM_LABELLED}.pt\"))\n",
    "d.eval()\n",
    "corrected = 0\n",
    "\n",
    "for b in test_dl:\n",
    "\timages, labels = b\n",
    "\touts = d.forward(images)\n",
    "\t_, preds = torch.max(outs, dim=1)\n",
    "\touts = torch.argmax(outs, dim=1)\n",
    "\tcorrected += torch.sum(preds == labels).item()\n",
    "\n",
    "corrected / test_dl.num_data(), GANSSL.evaluate(test_dl)"
   ]
  },
  {
   "cell_type": "code",
   "execution_count": 21,
   "metadata": {},
   "outputs": [],
   "source": [
    "import pickle"
   ]
  },
  {
   "cell_type": "code",
   "execution_count": 22,
   "metadata": {},
   "outputs": [],
   "source": [
    "with open(PATH + \".pickle\", 'wb') as f:\n",
    "\tpickle.dump(history, f)"
   ]
  },
  {
   "cell_type": "code",
   "execution_count": 23,
   "metadata": {},
   "outputs": [],
   "source": [
    "with open(PATH + \".pickle\", 'rb') as f:\n",
    "\thistory = pickle.load(f)"
   ]
  },
  {
   "cell_type": "code",
   "execution_count": 24,
   "metadata": {},
   "outputs": [
    {
     "data": {
      "image/png": "[encoded data removed]",
      "text/plain": [
       "<Figure size 800x500 with 1 Axes>"
      ]
     },
     "metadata": {},
     "output_type": "display_data"
    }
   ],
   "source": [
    "plotting(history)"
   ]
  }
 ],
 "metadata": {
  "kernelspec": {
   "display_name": "GAN",
   "language": "python",
   "name": "python3"
  },
  "language_info": {
   "codemirror_mode": {
    "name": "ipython",
    "version": 3
   },
   "file_extension": ".py",
   "mimetype": "text/x-python",
   "name": "python",
   "nbconvert_exporter": "python",
   "pygments_lexer": "ipython3",
   "version": "3.9.0"
  }
 },
 "nbformat": 4,
 "nbformat_minor": 2
}
