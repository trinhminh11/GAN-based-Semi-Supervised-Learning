{
 "cells": [
  {
   "cell_type": "code",
   "execution_count": 1,
   "metadata": {},
   "outputs": [],
   "source": [
    "import torch\n",
    "import numpy as np\n",
    "\n",
    "from utils import load_data, supervised_samples, set_random_seed, CustomDataSet\n",
    "import config"
   ]
  },
  {
   "cell_type": "code",
   "execution_count": 2,
   "metadata": {},
   "outputs": [
    {
     "name": "stdout",
     "output_type": "stream",
     "text": [
      "Setting seeds ...... \n",
      "\n"
     ]
    }
   ],
   "source": [
    "set_random_seed(config.RANDOM_SEED)\n",
    "np.random.seed(config.RANDOM_SEED)"
   ]
  },
  {
   "cell_type": "code",
   "execution_count": 3,
   "metadata": {},
   "outputs": [],
   "source": [
    "full_ds, test_ds, classes = load_data()\n",
    "test_ds.to(config.DEVICE)"
   ]
  },
  {
   "cell_type": "code",
   "execution_count": 4,
   "metadata": {},
   "outputs": [
    {
     "data": {
      "text/plain": [
       "['0 - helicopter',\n",
       " '1 - car',\n",
       " '2 - book',\n",
       " '3 - windmill',\n",
       " '4 - cat',\n",
       " '5 - umbrella',\n",
       " '6 - octopus',\n",
       " '7 - bird',\n",
       " '8 - hat',\n",
       " '9 - birthday cake']"
      ]
     },
     "execution_count": 4,
     "metadata": {},
     "output_type": "execute_result"
    }
   ],
   "source": [
    "classes"
   ]
  },
  {
   "cell_type": "code",
   "execution_count": 5,
   "metadata": {},
   "outputs": [],
   "source": [
    "class Model:\n",
    "\tdef __init__(self, train_ds: CustomDataSet, k=5):\n",
    "\t\tself.train_ds = train_ds\n",
    "\t\tself.k = k\n",
    "\n",
    "\t\n",
    "\tdef to(self, device):\n",
    "\t\tself.train_ds.to(device)\n",
    "\n",
    "\t@staticmethod\n",
    "\tdef euclidean(p1, p2):\n",
    "\t\treturn torch.sqrt(torch.sum((p1-p2)**2, dim=[1,2,3]))\n",
    "\t\t\n",
    "\t\n",
    "\tdef evaluate(self, test_point: torch.Tensor):\n",
    "\t\tdistances = []\n",
    "\t\t\n",
    "\n",
    "\t\tX_train, y_train = self.train_ds[:]\n",
    "\n",
    "\n",
    "\t\tdistances = self.euclidean(X_train, test_point).unsqueeze(1)\n",
    "\n",
    "\t\tdistances = torch.cat((distances, y_train.unsqueeze(1)), dim=1)\n",
    "\n",
    "\n",
    "\t\tdistances = distances[distances[:, 0].argsort()][: self.k]\n",
    "\n",
    "\n",
    "\t\tlabels, counts = torch.unique(distances[:, 1], return_counts=True)\n",
    "\n",
    "\t\tmajority_vote = labels[counts.argmax()]\n",
    "\n",
    "\t\treturn majority_vote, (counts.max() / self.k).item()\n",
    "\n",
    "\n",
    "\tdef calculate_accuracy(self, test_ds):\n",
    "\t\tcorrected = 0\n",
    "\t\n",
    "\t\tfor test_point, label in test_ds:\n",
    "\t\t\tpred_label, _ = self.evaluate(test_point)\n",
    "\t\t\tcorrected += (pred_label == label).item()\n",
    "\t\t\n",
    "\t\treturn corrected / len(test_ds)\n",
    "\t"
   ]
  },
  {
   "cell_type": "code",
   "execution_count": 6,
   "metadata": {},
   "outputs": [],
   "source": [
    "import pickle"
   ]
  },
  {
   "cell_type": "code",
   "execution_count": 7,
   "metadata": {},
   "outputs": [
    {
     "name": "stdout",
     "output_type": "stream",
     "text": [
      "k=3, acc: []\n"
     ]
    }
   ],
   "source": [
    "for k in [3]:\n",
    "\n",
    "\taccuracy_values = []\n",
    "\tx_values = [50, 100, 500, 'full']\n",
    "\n",
    "\tif config.USED_DATA == \"EMNIST\":\n",
    "\t\tx_values = [100, 200, 1000, 'full']\n",
    "\n",
    "\tfor x in x_values:\n",
    "\t\tif x == 'full':\n",
    "\t\t\ttrain_ds = full_ds\n",
    "\t\telse:\n",
    "\t\t\ttrain_ds = supervised_samples(full_ds, x, 10)\n",
    "\n",
    "\t\ttrain_ds.to(config.DEVICE)\n",
    "\t\t\n",
    "\n",
    "\t\tmodel = Model(train_ds, k)\n",
    "\n",
    "\t\t\n",
    "\t\taccuracy = model.calculate_accuracy(test_ds)\n",
    "\t\taccuracy_values.append(accuracy)\n",
    "\n",
    "\n",
    "\t\twith open(f'{config.USED_DATA}/KNN/_{x}.pkl', 'wb') as f:\n",
    "\t\t\tmodel.to('cpu')\n",
    "\t\t\tpickle.dump(model, f)\n",
    "\n",
    "\tprint(f'{k=}, acc: {accuracy_values}')\n"
   ]
  },
  {
   "cell_type": "code",
   "execution_count": 8,
   "metadata": {},
   "outputs": [
    {
     "data": {
      "text/plain": [
       "[]"
      ]
     },
     "execution_count": 8,
     "metadata": {},
     "output_type": "execute_result"
    }
   ],
   "source": [
    "accuracy_values"
   ]
  }
 ],
 "metadata": {
  "kernelspec": {
   "display_name": "Python 3",
   "language": "python",
   "name": "python3"
  },
  "language_info": {
   "codemirror_mode": {
    "name": "ipython",
    "version": 3
   },
   "file_extension": ".py",
   "mimetype": "text/x-python",
   "name": "python",
   "nbconvert_exporter": "python",
   "pygments_lexer": "ipython3",
   "version": "3.9.0"
  }
 },
 "nbformat": 4,
 "nbformat_minor": 2
}
